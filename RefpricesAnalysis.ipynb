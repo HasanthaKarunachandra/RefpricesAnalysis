{
 "cells": [
  {
   "cell_type": "code",
   "execution_count": 24,
   "id": "cc775b58",
   "metadata": {},
   "outputs": [],
   "source": [
    "import numpy as np\n",
    "import pandas as pd\n",
    "from sklearn.preprocessing import MinMaxScaler"
   ]
  },
  {
   "cell_type": "code",
   "execution_count": 25,
   "id": "5b60cc09",
   "metadata": {},
   "outputs": [
    {
     "name": "stdout",
     "output_type": "stream",
     "text": [
      "   Unnamed: 0        Date          RowId  SecuritiesCode    Open    High  \\\n",
      "0     2472412  2022-03-18  20220318_9531            9531  2308.0  2333.0   \n",
      "1     2472413  2022-03-18  20220318_9532            9532  2157.0  2183.0   \n",
      "2     2472414  2022-03-18  20220318_9533            9533  2786.0  2846.0   \n",
      "3     2472415  2022-03-18  20220318_9534            9534  1509.0  1512.0   \n",
      "4     2472416  2022-03-18  20220318_9535            9535   345.0   346.0   \n",
      "\n",
      "      Low   Close   Volume  AdjustmentFactor  ExpectedDividend  \\\n",
      "0  2250.0  2252.0  3407000               1.0               NaN   \n",
      "1  2105.0  2116.0  2260800               1.0               NaN   \n",
      "2  2730.0  2758.0   507900               1.0               NaN   \n",
      "3  1500.0  1500.0    31100               1.0               NaN   \n",
      "4   339.0   344.0   245500               1.0               NaN   \n",
      "\n",
      "   SupervisionFlag  \n",
      "0            False  \n",
      "1            False  \n",
      "2            False  \n",
      "3            False  \n",
      "4            False  \n"
     ]
    }
   ],
   "source": [
    "df=pd.read_csv(\"Refprices.csv\") #Read Refprice csv file\n",
    "print(df.head())"
   ]
  },
  {
   "cell_type": "code",
   "execution_count": 3,
   "id": "ae042142",
   "metadata": {},
   "outputs": [
    {
     "name": "stdout",
     "output_type": "stream",
     "text": [
      "(130000, 12)\n"
     ]
    }
   ],
   "source": [
    "print(df.shape) #shap of pandas data frame"
   ]
  },
  {
   "cell_type": "code",
   "execution_count": 4,
   "id": "462a1587",
   "metadata": {},
   "outputs": [
    {
     "data": {
      "text/plain": [
       "Unnamed: 0          False\n",
       "Date                False\n",
       "RowId               False\n",
       "SecuritiesCode      False\n",
       "Open                 True\n",
       "High                 True\n",
       "Low                  True\n",
       "Close                True\n",
       "Volume              False\n",
       "AdjustmentFactor    False\n",
       "ExpectedDividend     True\n",
       "SupervisionFlag     False\n",
       "dtype: bool"
      ]
     },
     "execution_count": 4,
     "metadata": {},
     "output_type": "execute_result"
    }
   ],
   "source": [
    "df.isna().any() # That's true any one data point missing in the column."
   ]
  },
  {
   "cell_type": "code",
   "execution_count": 5,
   "id": "c24e8489",
   "metadata": {},
   "outputs": [
    {
     "data": {
      "text/plain": [
       "Unnamed: 0          0.000000\n",
       "Date                0.000000\n",
       "RowId               0.000000\n",
       "SecuritiesCode      0.000000\n",
       "Open                0.003315\n",
       "High                0.003315\n",
       "Low                 0.003315\n",
       "Close               0.003315\n",
       "Volume              0.000000\n",
       "AdjustmentFactor    0.000000\n",
       "ExpectedDividend    0.988446\n",
       "SupervisionFlag     0.000000\n",
       "dtype: float64"
      ]
     },
     "execution_count": 5,
     "metadata": {},
     "output_type": "execute_result"
    }
   ],
   "source": [
    "df.isna().sum()/len(df) # As a presentage"
   ]
  },
  {
   "cell_type": "code",
   "execution_count": 26,
   "id": "f2853406",
   "metadata": {},
   "outputs": [],
   "source": [
    "df.drop('ExpectedDividend',axis=1,inplace=True) #remove ExpectedDivided colum because many datas missing"
   ]
  },
  {
   "cell_type": "code",
   "execution_count": 7,
   "id": "749c4f53",
   "metadata": {},
   "outputs": [
    {
     "data": {
      "text/html": [
       "<div>\n",
       "<style scoped>\n",
       "    .dataframe tbody tr th:only-of-type {\n",
       "        vertical-align: middle;\n",
       "    }\n",
       "\n",
       "    .dataframe tbody tr th {\n",
       "        vertical-align: top;\n",
       "    }\n",
       "\n",
       "    .dataframe thead th {\n",
       "        text-align: right;\n",
       "    }\n",
       "</style>\n",
       "<table border=\"1\" class=\"dataframe\">\n",
       "  <thead>\n",
       "    <tr style=\"text-align: right;\">\n",
       "      <th></th>\n",
       "      <th>Unnamed: 0</th>\n",
       "      <th>Date</th>\n",
       "      <th>RowId</th>\n",
       "      <th>SecuritiesCode</th>\n",
       "      <th>Open</th>\n",
       "      <th>High</th>\n",
       "      <th>Low</th>\n",
       "      <th>Close</th>\n",
       "      <th>Volume</th>\n",
       "      <th>AdjustmentFactor</th>\n",
       "      <th>SupervisionFlag</th>\n",
       "    </tr>\n",
       "  </thead>\n",
       "  <tbody>\n",
       "    <tr>\n",
       "      <th>0</th>\n",
       "      <td>2472412</td>\n",
       "      <td>2022-03-18</td>\n",
       "      <td>20220318_9531</td>\n",
       "      <td>9531</td>\n",
       "      <td>2308.0</td>\n",
       "      <td>2333.0</td>\n",
       "      <td>2250.0</td>\n",
       "      <td>2252.0</td>\n",
       "      <td>3407000</td>\n",
       "      <td>1.0</td>\n",
       "      <td>False</td>\n",
       "    </tr>\n",
       "    <tr>\n",
       "      <th>1</th>\n",
       "      <td>2472413</td>\n",
       "      <td>2022-03-18</td>\n",
       "      <td>20220318_9532</td>\n",
       "      <td>9532</td>\n",
       "      <td>2157.0</td>\n",
       "      <td>2183.0</td>\n",
       "      <td>2105.0</td>\n",
       "      <td>2116.0</td>\n",
       "      <td>2260800</td>\n",
       "      <td>1.0</td>\n",
       "      <td>False</td>\n",
       "    </tr>\n",
       "    <tr>\n",
       "      <th>2</th>\n",
       "      <td>2472414</td>\n",
       "      <td>2022-03-18</td>\n",
       "      <td>20220318_9533</td>\n",
       "      <td>9533</td>\n",
       "      <td>2786.0</td>\n",
       "      <td>2846.0</td>\n",
       "      <td>2730.0</td>\n",
       "      <td>2758.0</td>\n",
       "      <td>507900</td>\n",
       "      <td>1.0</td>\n",
       "      <td>False</td>\n",
       "    </tr>\n",
       "    <tr>\n",
       "      <th>3</th>\n",
       "      <td>2472415</td>\n",
       "      <td>2022-03-18</td>\n",
       "      <td>20220318_9534</td>\n",
       "      <td>9534</td>\n",
       "      <td>1509.0</td>\n",
       "      <td>1512.0</td>\n",
       "      <td>1500.0</td>\n",
       "      <td>1500.0</td>\n",
       "      <td>31100</td>\n",
       "      <td>1.0</td>\n",
       "      <td>False</td>\n",
       "    </tr>\n",
       "    <tr>\n",
       "      <th>4</th>\n",
       "      <td>2472416</td>\n",
       "      <td>2022-03-18</td>\n",
       "      <td>20220318_9535</td>\n",
       "      <td>9535</td>\n",
       "      <td>345.0</td>\n",
       "      <td>346.0</td>\n",
       "      <td>339.0</td>\n",
       "      <td>344.0</td>\n",
       "      <td>245500</td>\n",
       "      <td>1.0</td>\n",
       "      <td>False</td>\n",
       "    </tr>\n",
       "  </tbody>\n",
       "</table>\n",
       "</div>"
      ],
      "text/plain": [
       "   Unnamed: 0        Date          RowId  SecuritiesCode    Open    High  \\\n",
       "0     2472412  2022-03-18  20220318_9531            9531  2308.0  2333.0   \n",
       "1     2472413  2022-03-18  20220318_9532            9532  2157.0  2183.0   \n",
       "2     2472414  2022-03-18  20220318_9533            9533  2786.0  2846.0   \n",
       "3     2472415  2022-03-18  20220318_9534            9534  1509.0  1512.0   \n",
       "4     2472416  2022-03-18  20220318_9535            9535   345.0   346.0   \n",
       "\n",
       "      Low   Close   Volume  AdjustmentFactor  SupervisionFlag  \n",
       "0  2250.0  2252.0  3407000               1.0            False  \n",
       "1  2105.0  2116.0  2260800               1.0            False  \n",
       "2  2730.0  2758.0   507900               1.0            False  \n",
       "3  1500.0  1500.0    31100               1.0            False  \n",
       "4   339.0   344.0   245500               1.0            False  "
      ]
     },
     "execution_count": 7,
     "metadata": {},
     "output_type": "execute_result"
    }
   ],
   "source": [
    "df.head()"
   ]
  },
  {
   "cell_type": "code",
   "execution_count": 27,
   "id": "2662f4d6",
   "metadata": {},
   "outputs": [
    {
     "data": {
      "text/plain": [
       "Unnamed: 0            0\n",
       "Date                  0\n",
       "RowId                 0\n",
       "SecuritiesCode        0\n",
       "Open                431\n",
       "High                431\n",
       "Low                 431\n",
       "Close               431\n",
       "Volume                0\n",
       "AdjustmentFactor      0\n",
       "SupervisionFlag       0\n",
       "dtype: int64"
      ]
     },
     "execution_count": 27,
     "metadata": {},
     "output_type": "execute_result"
    }
   ],
   "source": [
    "df.isna().sum() #How many data paint missing in colum of DF"
   ]
  },
  {
   "cell_type": "code",
   "execution_count": 28,
   "id": "8f85f700",
   "metadata": {},
   "outputs": [
    {
     "data": {
      "text/plain": [
       "431"
      ]
     },
     "execution_count": 28,
     "metadata": {},
     "output_type": "execute_result"
    }
   ],
   "source": [
    "df.isna().any(axis=1).sum() #How many data missing raws"
   ]
  },
  {
   "cell_type": "code",
   "execution_count": 29,
   "id": "26a1c417",
   "metadata": {},
   "outputs": [],
   "source": [
    "df.dropna(how='any',inplace=True) #Remove data missing raws"
   ]
  },
  {
   "cell_type": "code",
   "execution_count": 30,
   "id": "11efb6e9",
   "metadata": {},
   "outputs": [
    {
     "data": {
      "text/plain": [
       "0"
      ]
     },
     "execution_count": 30,
     "metadata": {},
     "output_type": "execute_result"
    }
   ],
   "source": [
    "df.isna().any(axis=1).sum()"
   ]
  },
  {
   "cell_type": "code",
   "execution_count": 31,
   "id": "8608f94f",
   "metadata": {},
   "outputs": [
    {
     "data": {
      "text/plain": [
       "(129569, 11)"
      ]
     },
     "execution_count": 31,
     "metadata": {},
     "output_type": "execute_result"
    }
   ],
   "source": [
    "df.shape"
   ]
  },
  {
   "cell_type": "code",
   "execution_count": 42,
   "id": "c7deb32b",
   "metadata": {},
   "outputs": [],
   "source": [
    "SecuritiesCategory=df['SecuritiesCode']"
   ]
  },
  {
   "cell_type": "code",
   "execution_count": 44,
   "id": "4a1bbf21",
   "metadata": {},
   "outputs": [],
   "source": [
    "from sklearn.preprocessing import LabelEncoder\n",
    "obj=LabelEncoder()\n",
    "Securities=obj.fit_transform(SecuritiesCategory)"
   ]
  },
  {
   "cell_type": "code",
   "execution_count": 47,
   "id": "b12c9529",
   "metadata": {},
   "outputs": [
    {
     "data": {
      "text/plain": [
       "array([1881, 1882, 1883, ..., 1997, 1998, 1999], dtype=int64)"
      ]
     },
     "execution_count": 47,
     "metadata": {},
     "output_type": "execute_result"
    }
   ],
   "source": [
    "Securities"
   ]
  },
  {
   "cell_type": "code",
   "execution_count": 48,
   "id": "24f41dd1",
   "metadata": {},
   "outputs": [],
   "source": [
    "from sklearn.preprocessing import LabelBinarizer\n",
    "obj=LabelBinarizer()\n",
    "Securities=obj.fit_transform(SecuritiesCategory)"
   ]
  },
  {
   "cell_type": "code",
   "execution_count": 49,
   "id": "551a1ef4",
   "metadata": {},
   "outputs": [
    {
     "data": {
      "text/plain": [
       "array([[0, 0, 0, ..., 0, 0, 0],\n",
       "       [0, 0, 0, ..., 0, 0, 0],\n",
       "       [0, 0, 0, ..., 0, 0, 0],\n",
       "       ...,\n",
       "       [0, 0, 0, ..., 1, 0, 0],\n",
       "       [0, 0, 0, ..., 0, 1, 0],\n",
       "       [0, 0, 0, ..., 0, 0, 1]])"
      ]
     },
     "execution_count": 49,
     "metadata": {},
     "output_type": "execute_result"
    }
   ],
   "source": [
    "Securities"
   ]
  },
  {
   "cell_type": "code",
   "execution_count": 52,
   "id": "4ce31382",
   "metadata": {},
   "outputs": [
    {
     "data": {
      "text/plain": [
       "array([1301, 1332, 1333, ..., 9993, 9994, 9997], dtype=int64)"
      ]
     },
     "execution_count": 52,
     "metadata": {},
     "output_type": "execute_result"
    }
   ],
   "source": [
    "obj.classes_ #One Hot Encoded data(SecuritiesCode)"
   ]
  },
  {
   "cell_type": "code",
   "execution_count": 32,
   "id": "954bca81",
   "metadata": {},
   "outputs": [],
   "source": [
    "x1=df.iloc[:,4:5].values\n",
    "x2=df.iloc[:,5:6].values\n",
    "x3=df.iloc[:,6:7].values\n",
    "x4=df.iloc[:,7:8].values"
   ]
  },
  {
   "cell_type": "code",
   "execution_count": 33,
   "id": "85411e12",
   "metadata": {},
   "outputs": [
    {
     "data": {
      "text/plain": [
       "array([[2308.],\n",
       "       [2157.],\n",
       "       [2786.],\n",
       "       ...,\n",
       "       [1548.],\n",
       "       [2507.],\n",
       "       [ 710.]])"
      ]
     },
     "execution_count": 33,
     "metadata": {},
     "output_type": "execute_result"
    }
   ],
   "source": [
    "x1"
   ]
  },
  {
   "cell_type": "code",
   "execution_count": 34,
   "id": "443071f6",
   "metadata": {},
   "outputs": [
    {
     "data": {
      "text/plain": [
       "array([[2333.],\n",
       "       [2183.],\n",
       "       [2846.],\n",
       "       ...,\n",
       "       [1548.],\n",
       "       [2527.],\n",
       "       [ 725.]])"
      ]
     },
     "execution_count": 34,
     "metadata": {},
     "output_type": "execute_result"
    }
   ],
   "source": [
    "x2"
   ]
  },
  {
   "cell_type": "code",
   "execution_count": 35,
   "id": "f1c48ae9",
   "metadata": {},
   "outputs": [
    {
     "data": {
      "text/plain": [
       "array([[2250.],\n",
       "       [2105.],\n",
       "       [2730.],\n",
       "       ...,\n",
       "       [1497.],\n",
       "       [2498.],\n",
       "       [ 710.]])"
      ]
     },
     "execution_count": 35,
     "metadata": {},
     "output_type": "execute_result"
    }
   ],
   "source": [
    "x3"
   ]
  },
  {
   "cell_type": "code",
   "execution_count": 36,
   "id": "843b1541",
   "metadata": {},
   "outputs": [
    {
     "data": {
      "text/plain": [
       "array([[2252.],\n",
       "       [2116.],\n",
       "       [2758.],\n",
       "       ...,\n",
       "       [1497.],\n",
       "       [2527.],\n",
       "       [ 719.]])"
      ]
     },
     "execution_count": 36,
     "metadata": {},
     "output_type": "execute_result"
    }
   ],
   "source": [
    "x4"
   ]
  },
  {
   "cell_type": "code",
   "execution_count": 37,
   "id": "d28f3738",
   "metadata": {},
   "outputs": [],
   "source": [
    "#Normalizing the Dataset\n",
    "scaler=MinMaxScaler(feature_range=(0,1)) \n",
    "scaler_train_set1=scaler.fit_transform(x1)\n",
    "scaler_train_set2=scaler.fit_transform(x2)\n",
    "scaler_train_set3=scaler.fit_transform(x3)\n",
    "scaler_train_set4=scaler.fit_transform(x4)"
   ]
  },
  {
   "cell_type": "code",
   "execution_count": 16,
   "id": "2d272553",
   "metadata": {},
   "outputs": [
    {
     "data": {
      "text/plain": [
       "array([[0.03155198],\n",
       "       [0.02944944],\n",
       "       [0.03820769],\n",
       "       ...,\n",
       "       [0.02096967],\n",
       "       [0.03432287],\n",
       "       [0.00930129]])"
      ]
     },
     "execution_count": 16,
     "metadata": {},
     "output_type": "execute_result"
    }
   ],
   "source": [
    "scaler_train_set1"
   ]
  },
  {
   "cell_type": "code",
   "execution_count": 17,
   "id": "7b1af9a6",
   "metadata": {},
   "outputs": [
    {
     "data": {
      "text/plain": [
       "array([[0.03175836],\n",
       "       [0.02967812],\n",
       "       [0.03887279],\n",
       "       ...,\n",
       "       [0.02087176],\n",
       "       [0.03444881],\n",
       "       [0.00945817]])"
      ]
     },
     "execution_count": 17,
     "metadata": {},
     "output_type": "execute_result"
    }
   ],
   "source": [
    "scaler_train_set2"
   ]
  },
  {
   "cell_type": "code",
   "execution_count": 18,
   "id": "eb076a11",
   "metadata": {},
   "outputs": [
    {
     "data": {
      "text/plain": [
       "array([[0.0312363 ],\n",
       "       [0.02918593],\n",
       "       [0.03802373],\n",
       "       ...,\n",
       "       [0.02058853],\n",
       "       [0.03474314],\n",
       "       [0.00945998]])"
      ]
     },
     "execution_count": 18,
     "metadata": {},
     "output_type": "execute_result"
    }
   ],
   "source": [
    "scaler_train_set3"
   ]
  },
  {
   "cell_type": "code",
   "execution_count": 19,
   "id": "2472d390",
   "metadata": {},
   "outputs": [
    {
     "data": {
      "text/plain": [
       "array([[0.03101841],\n",
       "       [0.02910959],\n",
       "       [0.03812037],\n",
       "       ...,\n",
       "       [0.02042163],\n",
       "       [0.03487817],\n",
       "       [0.00950202]])"
      ]
     },
     "execution_count": 19,
     "metadata": {},
     "output_type": "execute_result"
    }
   ],
   "source": [
    "scaler_train_set4"
   ]
  },
  {
   "cell_type": "code",
   "execution_count": 38,
   "id": "995aa8ee",
   "metadata": {},
   "outputs": [
    {
     "data": {
      "text/plain": [
       "(129569, 1)"
      ]
     },
     "execution_count": 38,
     "metadata": {},
     "output_type": "execute_result"
    }
   ],
   "source": [
    "scaler_train_set4.shape"
   ]
  },
  {
   "cell_type": "code",
   "execution_count": 39,
   "id": "9afb1640",
   "metadata": {},
   "outputs": [],
   "source": [
    "X1_train = []\n",
    "y1_train = []\n",
    "for i in range(60, 129569):\n",
    "    X1_train.append(scaler_train_set1[i-60:i, 0])\n",
    "    y1_train.append(scaler_train_set1[i, 0])\n",
    "X1_train, y1_train = np.array(X1_train), np.array(y1_train)\n",
    "\n",
    "X1_train = np.reshape(X1_train, (X1_train.shape[0], X1_train.shape[1], 1))"
   ]
  },
  {
   "cell_type": "code",
   "execution_count": null,
   "id": "6568d5e5",
   "metadata": {},
   "outputs": [],
   "source": []
  },
  {
   "cell_type": "code",
   "execution_count": null,
   "id": "db16aa70",
   "metadata": {},
   "outputs": [],
   "source": []
  },
  {
   "cell_type": "code",
   "execution_count": null,
   "id": "5c180f6a",
   "metadata": {},
   "outputs": [],
   "source": []
  },
  {
   "cell_type": "code",
   "execution_count": null,
   "id": "fab57d5f",
   "metadata": {},
   "outputs": [],
   "source": []
  },
  {
   "cell_type": "code",
   "execution_count": null,
   "id": "eee82ccd",
   "metadata": {},
   "outputs": [],
   "source": []
  },
  {
   "cell_type": "code",
   "execution_count": null,
   "id": "4876240a",
   "metadata": {},
   "outputs": [],
   "source": []
  },
  {
   "cell_type": "code",
   "execution_count": null,
   "id": "9c270ba4",
   "metadata": {},
   "outputs": [],
   "source": []
  },
  {
   "cell_type": "code",
   "execution_count": null,
   "id": "74341dc7",
   "metadata": {},
   "outputs": [],
   "source": []
  },
  {
   "cell_type": "code",
   "execution_count": null,
   "id": "168cdc0b",
   "metadata": {},
   "outputs": [],
   "source": []
  },
  {
   "cell_type": "code",
   "execution_count": null,
   "id": "236976af",
   "metadata": {},
   "outputs": [],
   "source": []
  },
  {
   "cell_type": "code",
   "execution_count": null,
   "id": "25424648",
   "metadata": {},
   "outputs": [],
   "source": []
  }
 ],
 "metadata": {
  "kernelspec": {
   "display_name": "Python 3 (ipykernel)",
   "language": "python",
   "name": "python3"
  },
  "language_info": {
   "codemirror_mode": {
    "name": "ipython",
    "version": 3
   },
   "file_extension": ".py",
   "mimetype": "text/x-python",
   "name": "python",
   "nbconvert_exporter": "python",
   "pygments_lexer": "ipython3",
   "version": "3.9.12"
  }
 },
 "nbformat": 4,
 "nbformat_minor": 5
}
